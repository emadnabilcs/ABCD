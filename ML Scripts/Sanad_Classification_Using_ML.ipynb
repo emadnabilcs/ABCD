{
 "cells": [
  {
   "cell_type": "code",
   "execution_count": null,
   "id": "bab127eb",
   "metadata": {},
   "outputs": [],
   "source": [
    "import pandas as pd\n",
    "from sklearn.model_selection import train_test_split\n",
    "from sklearn.feature_extraction.text import TfidfVectorizer\n",
    "from sklearn.naive_bayes import GaussianNB\n",
    "from sklearn.linear_model import LogisticRegression\n",
    "from sklearn.svm import SVC\n",
    "from sklearn.neural_network import MLPClassifier\n",
    "from sklearn.metrics import classification_report\n",
    "\n",
    "# Read dataset\n",
    "data = pd.read_csv('your_dataset.csv')  # Replace 'your_dataset.csv' with the path to your dataset\n",
    "\n",
    "# Split dataset into train and test sets\n",
    "train_data, test_data = train_test_split(data, test_size=0.2, random_state=42)\n",
    "\n",
    "# TF-IDF Vectorization with n-gram support (unigrams, bigrams, trigrams) on the 'Sanad' column\n",
    "tfidf_vectorizer = TfidfVectorizer(ngram_range=(1, 3))\n",
    "X_train = tfidf_vectorizer.fit_transform(train_data['Sanad'])\n",
    "X_test = tfidf_vectorizer.transform(test_data['Sanad'])\n",
    "\n",
    "# Initialize models with specified hyperparameters\n",
    "models = {\n",
    "    'GaussianNB': GaussianNB(var_smoothing=1e-9),\n",
    "    'LogisticRegression': LogisticRegression(penalty='l2', multi_class='auto'),\n",
    "    'SVM': SVC(kernel='rbf', C=4, gamma=0.125),\n",
    "    'MLP': MLPClassifier(hidden_layer_sizes=(100), batch_size='auto', activation='relu', solver='adam')\n",
    "}\n",
    "\n",
    "# Train and test models\n",
    "for name, model in models.items():\n",
    "    model.fit(X_train, train_data['Label'])\n",
    "    predictions = model.predict(X_test)\n",
    "\n",
    "    # Calculate metrics (precision, recall, f1-score)\n",
    "    metrics = classification_report(test_data['Label'], predictions)\n",
    "    print(f\"Metrics for {name}:\")\n",
    "    print(metrics)\n"
   ]
  }
 ],
 "metadata": {
  "kernelspec": {
   "display_name": "Python 3 (ipykernel)",
   "language": "python",
   "name": "python3"
  },
  "language_info": {
   "codemirror_mode": {
    "name": "ipython",
    "version": 3
   },
   "file_extension": ".py",
   "mimetype": "text/x-python",
   "name": "python",
   "nbconvert_exporter": "python",
   "pygments_lexer": "ipython3",
   "version": "3.9.8"
  }
 },
 "nbformat": 4,
 "nbformat_minor": 5
}
